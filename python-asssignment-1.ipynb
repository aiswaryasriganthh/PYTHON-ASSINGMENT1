{
 "cells": [
  {
   "cell_type": "markdown",
   "metadata": {},
   "source": [
    "# Write a function called show_stars(rows). If rows are 5, it should print the following:\n",
    "*\n",
    "**\n",
    "***\n",
    "****\n",
    "*****\n"
   ]
  },
  {
   "cell_type": "code",
   "execution_count": 6,
   "metadata": {},
   "outputs": [
    {
     "name": "stdout",
     "output_type": "stream",
     "text": [
      "Enter the number of rows: 5\n",
      "* \n",
      "* * \n",
      "* * * \n",
      "* * * * \n",
      "* * * * * \n"
     ]
    }
   ],
   "source": [
    "def show_stars(rows):\n",
    "   for i in range(rows):\n",
    "      for j in range(i+1):\n",
    "         # printing stars\n",
    "         print(\"*\",end=\" \")\n",
    "      print(\"\\r\")\n",
    " \n",
    "\n",
    "rows= int(input('Enter the number of rows: '))\n",
    "\n",
    "\n",
    "show_stars(rows)"
   ]
  },
  {
   "cell_type": "markdown",
   "metadata": {},
   "source": [
    "# 2.Write a program to remove characters from a string starting from zero up to n and return a new string"
   ]
  },
  {
   "cell_type": "code",
   "execution_count": 9,
   "metadata": {},
   "outputs": [
    {
     "name": "stdout",
     "output_type": "stream",
     "text": [
      "The original string is :  Artificial Intelligence\n",
      "The string after removal of i'th character :  Artifiial Intelligence\n"
     ]
    }
   ],
   "source": [
    "test_str =\"Artificial Intelligence\"\n",
    "  \n",
    " \n",
    "print (\"The original string is : \" , test_str)\n",
    "  \n",
    "\n",
    "new_str = \"\"\n",
    "  \n",
    "for i in range(len(test_str)):\n",
    "    if i != 6:\n",
    "        new_str = new_str + test_str[i]\n",
    "  \n",
    " \n",
    "print (\"The string after removal of i'th character : \" ,new_str)"
   ]
  },
  {
   "cell_type": "markdown",
   "metadata": {},
   "source": [
    "# 3.) Iterate the given list of numbers and print only those numbers which are divisible by 5"
   ]
  },
  {
   "cell_type": "code",
   "execution_count": 10,
   "metadata": {},
   "outputs": [
    {
     "name": "stdout",
     "output_type": "stream",
     "text": [
      "Enter lower range limit:300\n",
      "Enter upper range limit:350\n",
      "300\n",
      "305\n",
      "310\n",
      "315\n",
      "320\n",
      "325\n",
      "330\n",
      "335\n",
      "340\n",
      "345\n",
      "350\n"
     ]
    }
   ],
   "source": [
    "lower = int(input(\"Enter lower range limit:\"))\n",
    "upper = int(input(\"Enter upper range limit:\"))\n",
    "for i in range(lower, upper+1):\n",
    "   if (i%5==0):\n",
    "      print(i)"
   ]
  },
  {
   "cell_type": "markdown",
   "metadata": {},
   "source": [
    "# 4.Write a program to find how many times substring “Hi” appears in the given string."
   ]
  },
  {
   "cell_type": "code",
   "execution_count": 11,
   "metadata": {},
   "outputs": [
    {
     "name": "stdout",
     "output_type": "stream",
     "text": [
      "1\n"
     ]
    }
   ],
   "source": [
    "string = 'Hi! everyone welcome to python'\n",
    "sub_string = 'Hi'\n",
    "results = 0\n",
    "sub_len = len(sub_string)\n",
    "for i in range(len(string)):\n",
    "    if string[i:i+sub_len] == sub_string:\n",
    "        results += 1\n",
    "print (results)"
   ]
  },
  {
   "cell_type": "markdown",
   "metadata": {},
   "source": [
    "# Print the following pattern\n",
    "1 \n",
    "2 2 \n",
    "3 3 3 \n",
    "4 4 4 4 \n",
    "5 5 5 5 5\n"
   ]
  },
  {
   "cell_type": "code",
   "execution_count": 12,
   "metadata": {},
   "outputs": [
    {
     "name": "stdout",
     "output_type": "stream",
     "text": [
      "Enter the number of rows: 5\n",
      "\n",
      "1 \n",
      "2 2 \n",
      "3 3 3 \n",
      "4 4 4 4 \n",
      "5 5 5 5 5 \n"
     ]
    }
   ],
   "source": [
    "def numbers(rows):\n",
    "   for i in range(rows+1):\n",
    "      for j in range(i):\n",
    "         print(i,end=\" \")\n",
    "      print(\"\\r\")\n",
    " \n",
    "\n",
    "\n",
    "rows= int(input('Enter the number of rows: '))\n",
    "\n",
    "numbers(rows)"
   ]
  },
  {
   "cell_type": "markdown",
   "metadata": {},
   "source": [
    "# ) Python program to interchange first and last elements in a list"
   ]
  },
  {
   "cell_type": "code",
   "execution_count": 15,
   "metadata": {},
   "outputs": [
    {
     "name": "stdout",
     "output_type": "stream",
     "text": [
      "Initial List :  [21, 7, 33, 57, 23, 87]\n",
      "List after Swapping :  [87, 7, 33, 57, 23, 21]\n"
     ]
    }
   ],
   "source": [
    "myList = [21, 7, 33, 57, 23, 87]\n",
    "print(\"Initial List : \", myList)\n",
    "\n",
    "# finding the length of list\n",
    "length = len(myList)\n",
    "\n",
    "# Swapping first and last element\n",
    "temp = myList[0]\n",
    "myList[0] = myList[length - 1]\n",
    "myList[length - 1] = temp\n",
    "\n",
    "print(\"List after Swapping : \", myList)"
   ]
  },
  {
   "cell_type": "markdown",
   "metadata": {},
   "source": [
    "# Python program to swap two elements in a list"
   ]
  },
  {
   "cell_type": "code",
   "execution_count": 18,
   "metadata": {},
   "outputs": [
    {
     "name": "stdout",
     "output_type": "stream",
     "text": [
      "[12, 34, 56, 78, 90]\n",
      "Swapped list:  [12, 34, 90, 78, 56]\n"
     ]
    }
   ],
   "source": [
    "def swaping(sl,pos1,pos2):\n",
    "    n = len(sl)     \n",
    "\n",
    "    temp = sl[pos1]\n",
    "    sl[pos1] = sl[pos2]\n",
    "    sl[pos2] = temp\n",
    "    return sl      \n",
    "\n",
    "k= [12,34,56,78,90]\n",
    "pos1= 3\n",
    "pos2= 5\n",
    "\n",
    "print(k)\n",
    "print(\"Swapped list: \",swaping(k,pos1-1,pos2-1))\n"
   ]
  },
  {
   "cell_type": "markdown",
   "metadata": {},
   "source": [
    "# )Python | Ways to find length of list\n",
    "\n"
   ]
  },
  {
   "cell_type": "code",
   "execution_count": 19,
   "metadata": {},
   "outputs": [
    {
     "name": "stdout",
     "output_type": "stream",
     "text": [
      "Number of items in the list1 =  5\n",
      "Number of items in the list2 =  4\n"
     ]
    }
   ],
   "source": [
    "list1 = [\"Hello\", \"everyone\", 1, 2, 3]\n",
    "list2=[\"mango\",\"gauva\",'##',8]\n",
    "print (\"Number of items in the list1 = \", len(list1))\n",
    "print (\"Number of items in the list2 = \", len(list2))"
   ]
  },
  {
   "cell_type": "markdown",
   "metadata": {},
   "source": [
    "# Maximum of two numbers in Python"
   ]
  },
  {
   "cell_type": "code",
   "execution_count": 20,
   "metadata": {},
   "outputs": [
    {
     "name": "stdout",
     "output_type": "stream",
     "text": [
      "Enter the first number: 4\n",
      "Enter the second number: 6\n",
      "6 is greater\n"
     ]
    }
   ],
   "source": [
    "num1 = int(input(\"Enter the first number: \"))\n",
    "num2 = int(input(\"Enter the second number: \"))\n",
    "if(num1 > num2):\n",
    "  print(num1, \"is greater\")\n",
    "elif(num1 < num2):\n",
    "    print(num2, \"is greater\")\n",
    "else:\n",
    "    print(\"Both are equal\")"
   ]
  },
  {
   "cell_type": "markdown",
   "metadata": {},
   "source": [
    "# Minimum of two numbers in Python"
   ]
  },
  {
   "cell_type": "code",
   "execution_count": 22,
   "metadata": {},
   "outputs": [
    {
     "name": "stdout",
     "output_type": "stream",
     "text": [
      "Enter the first number: 4\n",
      "Enter the second number: 7\n",
      "4 is lowest\n"
     ]
    }
   ],
   "source": [
    "num1 = int(input(\"Enter the first number: \"))\n",
    "num2 = int(input(\"Enter the second number: \"))\n",
    "\n",
    "\n",
    "if(num1 < num2):\n",
    "  print(num1, \"is lowest\")\n",
    "elif(num2 < num1):\n",
    "    print(num2, \"is lowest\")\n",
    "else:\n",
    "    print(\"Both are equal\")"
   ]
  },
  {
   "cell_type": "markdown",
   "metadata": {},
   "source": [
    "# Tuple Exercises"
   ]
  },
  {
   "cell_type": "markdown",
   "metadata": {},
   "source": [
    "# Python program to Find the size of a Tuple"
   ]
  },
  {
   "cell_type": "code",
   "execution_count": 24,
   "metadata": {},
   "outputs": [
    {
     "name": "stdout",
     "output_type": "stream",
     "text": [
      "Size of Tuple1:  48 bytes\n",
      "Size of Tuple2:  44 bytes\n",
      "Size of Tuple3:  36 bytes\n"
     ]
    }
   ],
   "source": [
    "import sys\n",
    "\n",
    "fly= (\"hlo\", 1, \"welcome\", 2, \"to\", \"python\",3)\n",
    "Jass = (\"mango\", \"is\", \"my\", \"favourite\", \"fruit\", \"banana\")\n",
    "Ross = ((1, \"Lion\"), ( 2, \"Tiger\"), (3, \"Fox\"), (4, \"Wolf\"))\n",
    "  \n",
    "\n",
    "print(\"Size of Tuple1: \" , str(sys.getsizeof(fly)) , \"bytes\")\n",
    "print(\"Size of Tuple2: \" , str(sys.getsizeof(Jass)) , \"bytes\")\n",
    "print(\"Size of Tuple3: \" , str(sys.getsizeof(Ross)) , \"bytes\")"
   ]
  },
  {
   "cell_type": "markdown",
   "metadata": {},
   "source": [
    "# )Python – Maximum and Minimum K elements in Tuple"
   ]
  },
  {
   "cell_type": "code",
   "execution_count": 25,
   "metadata": {},
   "outputs": [
    {
     "name": "stdout",
     "output_type": "stream",
     "text": [
      "The tuple is : \n",
      "(98, 99, 0, 9, 10, 8)\n",
      "The value of K has been initialized to \n",
      "2\n",
      "The result is : \n",
      "(0, 8, 98, 99)\n"
     ]
    }
   ],
   "source": [
    "sample_tuple = (98, 99, 0, 9, 10, 8)\n",
    "\n",
    "print(\"The tuple is : \")\n",
    "print(sample_tuple)\n",
    "\n",
    "K = 2\n",
    "print(\"The value of K has been initialized to \")\n",
    "print(K)\n",
    "my_result = []\n",
    "sample_typle = list(sample_tuple)\n",
    "temp = sorted(sample_tuple)\n",
    "\n",
    "for idx, val in enumerate(temp):\n",
    "   if idx < K or idx >= len(temp) - K:\n",
    "      my_result.append(val)\n",
    "my_result = tuple(my_result)\n",
    "\n",
    "print(\"The result is : \" )\n",
    "print(my_result)"
   ]
  },
  {
   "cell_type": "markdown",
   "metadata": {},
   "source": [
    " # Python – Sum of tuple elements"
   ]
  },
  {
   "cell_type": "code",
   "execution_count": 26,
   "metadata": {},
   "outputs": [
    {
     "name": "stdout",
     "output_type": "stream",
     "text": [
      "The original tuple is :  (7, 8, 9, 1, 99, 7)\n",
      "The sum of tuple elements are :  131\n"
     ]
    }
   ],
   "source": [
    "myTuple = (7, 8, 9, 1, 99, 7) \n",
    "  \n",
    "# printing original tuple\n",
    "print(\"The original tuple is : \" , str(myTuple)) \n",
    "  \n",
    "# finding sum of all tuple elements\n",
    "tupSum = sum(list(myTuple))\n",
    "  \n",
    "# Printing sum of tuple elements  \n",
    "print(\"The sum of tuple elements are : \" , str(tupSum))"
   ]
  },
  {
   "cell_type": "markdown",
   "metadata": {},
   "source": [
    "# String Exercises"
   ]
  },
  {
   "cell_type": "markdown",
   "metadata": {},
   "source": [
    "# )Python program to check whether the string is Symmetrical or Palindrome"
   ]
  },
  {
   "cell_type": "code",
   "execution_count": 28,
   "metadata": {},
   "outputs": [
    {
     "name": "stdout",
     "output_type": "stream",
     "text": [
      "Enter the string: sddd\n",
      "The entered string is not palindrome\n",
      "The entered string is not symmetrical\n"
     ]
    }
   ],
   "source": [
    "def palin(string): \n",
    "\n",
    "\n",
    "  st = 0\n",
    "  end = len(string)-1\n",
    "  f = 0\n",
    "\n",
    "  while(st<end): \n",
    "\n",
    "    if (string[st]== string[end]): \n",
    "      \n",
    "      st += 1\n",
    "      end -= 1\n",
    "      \n",
    "    else: \n",
    "      f = 1\n",
    "      break;     \n",
    "  if f == 0: \n",
    "    print(\"The entered string is palindrome\") \n",
    "  else: \n",
    "    print(\"The entered string is not palindrome\")\n",
    "    \n",
    "def symm(string): \n",
    "  \n",
    "  l = len(string) \n",
    "  flag = 0\n",
    "  \n",
    "  if l%2 == 0: \n",
    "    mid = l//2\n",
    "  else: \n",
    "    mid = l//2 + 1\n",
    "    \n",
    "  s1 = 0  \n",
    "  s2 = mid \n",
    "  \n",
    "  while(s1 < mid and s2 < l): \n",
    "    \n",
    "    if (string[s1] == string[s2]):\n",
    "      s1 = s1 + 1\n",
    "      s2 = s2 + 1\n",
    "    else: \n",
    "      flag = 1\n",
    "      break\n",
    "  \n",
    "\n",
    "  if flag == 0: \n",
    "    print(\"The entered string is symmetrical\") \n",
    "  else: \n",
    "    print(\"The entered string is not symmetrical\") \n",
    "    \n",
    "\n",
    "string = input(\"Enter the string: \")\n",
    "palin(string) \n",
    "symm(string)"
   ]
  },
  {
   "cell_type": "markdown",
   "metadata": {},
   "source": [
    "# Reverse words in a given String in Python"
   ]
  },
  {
   "cell_type": "code",
   "execution_count": 30,
   "metadata": {},
   "outputs": [
    {
     "name": "stdout",
     "output_type": "stream",
     "text": [
      "Enter any string: fdg fgfd\n",
      "fgfd fdg\n"
     ]
    }
   ],
   "source": [
    "x = input(\"Enter any string: \")\n",
    "\n",
    "a = x.split()\n",
    "\n",
    "a.reverse()\n",
    "\n",
    "print(' '.join(a))\n"
   ]
  },
  {
   "cell_type": "markdown",
   "metadata": {},
   "source": [
    "# Ways to remove i’th character from string in Python"
   ]
  },
  {
   "cell_type": "code",
   "execution_count": 31,
   "metadata": {},
   "outputs": [
    {
     "name": "stdout",
     "output_type": "stream",
     "text": [
      "Engneering\n"
     ]
    }
   ],
   "source": [
    "def remove_char(s, i):\n",
    "\n",
    "    for j in range(len(s)):\n",
    "        if j==i:\n",
    "            s=s.replace(s[i],\"\",1)\n",
    "    return s\n",
    "\n",
    "string = \"Engineering\"\n",
    "# Remove i-th index element\n",
    "i = 4\n",
    "print(remove_char(string,i-1))"
   ]
  },
  {
   "cell_type": "markdown",
   "metadata": {},
   "source": [
    "# Set Exercises"
   ]
  },
  {
   "cell_type": "markdown",
   "metadata": {},
   "source": [
    "# )Find the size of a Set in Python"
   ]
  },
  {
   "cell_type": "code",
   "execution_count": 32,
   "metadata": {},
   "outputs": [
    {
     "name": "stdout",
     "output_type": "stream",
     "text": [
      "Size of Set1:  364 bytes\n",
      "Size of Set2:  364 bytes\n",
      "Size of Set3:  108 bytes\n"
     ]
    }
   ],
   "source": [
    "import sys\n",
    "  \n",
    "\n",
    "Set1 = {\"A\", 1, \"B\", 2, \"C\", 3}\n",
    "Set2 = {\"mango\", \"banana\", \"gauva\", \"jackfruit\", \"papaya\", \"kosaimasse\"}\n",
    "Set3 = {(1, \"python\"), ( 2, \"c\"), (3, \"c++\")}\n",
    "  \n",
    "\n",
    "print(\"Size of Set1: \" , str(sys.getsizeof(Set1)) , \"bytes\")\n",
    "print(\"Size of Set2: \" , str(sys.getsizeof(Set2)) , \"bytes\")\n",
    "print(\"Size of Set3: \" , str(sys.getsizeof(Set3)) , \"bytes\")"
   ]
  },
  {
   "cell_type": "markdown",
   "metadata": {},
   "source": [
    "# Iterate over a set in Python"
   ]
  },
  {
   "cell_type": "code",
   "execution_count": 33,
   "metadata": {},
   "outputs": [
    {
     "name": "stdout",
     "output_type": "stream",
     "text": [
      "0 1 2 99 11 \n",
      "\n",
      "Creating a set using string:\n",
      "p t r i e n "
     ]
    }
   ],
   "source": [
    "num_set = set([0, 1, 2, 0, 11, 99])\n",
    "for n in num_set:\n",
    "  print(n, end=' ')\n",
    "print(\"\\n\\nCreating a set using string:\")\n",
    "char_set = set(\"interpreter\")  \n",
    "\n",
    "for val in char_set:\n",
    "    print(val, end=' ')"
   ]
  },
  {
   "cell_type": "markdown",
   "metadata": {},
   "source": [
    "# Dictionary Exercises"
   ]
  },
  {
   "cell_type": "markdown",
   "metadata": {},
   "source": [
    "# Python | Sort Python Dictionaries by Key or Value\n",
    "\n"
   ]
  },
  {
   "cell_type": "code",
   "execution_count": 34,
   "metadata": {},
   "outputs": [
    {
     "name": "stdout",
     "output_type": "stream",
     "text": [
      "Sorted keys [1, 2, 6, 7, 8, 9]\n",
      "Sorted Values [(1, 'peter'), (2, 'sandhiya'), (6, 'Murugan'), (7, 'TEsla'), (8, 'thomas'), (9, 'Micheal')]\n"
     ]
    }
   ],
   "source": [
    "dict = {6:'Murugan' ,2:'sandhiya' ,1:'peter' ,9:'Micheal' ,7:'TEsla' ,8:'thomas' }  \n",
    " \n",
    "key_sort= sorted(dict.keys())\n",
    "print(\"Sorted keys\",key_sort)  \n",
    "  \n",
    "value_sort= sorted(dict.items())\n",
    "print(\"Sorted Values\",value_sort)  "
   ]
  },
  {
   "cell_type": "markdown",
   "metadata": {},
   "source": [
    "# Python dictionary with keys having multiple inputs"
   ]
  },
  {
   "cell_type": "code",
   "execution_count": 35,
   "metadata": {},
   "outputs": [
    {
     "name": "stdout",
     "output_type": "stream",
     "text": [
      "The dictionary is :\n",
      "{(15, 26, 38): 3, (5, 4, 11): -2}\n"
     ]
    }
   ],
   "source": [
    "my_dict = {}\n",
    "\n",
    "a, b, c = 15, 26, 38\n",
    "my_dict[a, b, c] = a + b - c\n",
    "\n",
    "a, b, c = 5, 4, 11\n",
    "my_dict[a, b, c] = a + b - c\n",
    "\n",
    "print(\"The dictionary is :\")\n",
    "print(my_dict)"
   ]
  },
  {
   "cell_type": "markdown",
   "metadata": {},
   "source": [
    "# Matrix Exercises"
   ]
  },
  {
   "cell_type": "markdown",
   "metadata": {},
   "source": [
    "# Python – Assigning Subsequent Rows to Matrix first row elements\n",
    "\n"
   ]
  },
  {
   "cell_type": "code",
   "execution_count": 36,
   "metadata": {},
   "outputs": [
    {
     "ename": "NameError",
     "evalue": "name 'trial_list' is not defined",
     "output_type": "error",
     "traceback": [
      "\u001b[1;31m---------------------------------------------------------------------------\u001b[0m",
      "\u001b[1;31mNameError\u001b[0m                                 Traceback (most recent call last)",
      "\u001b[1;32m<ipython-input-36-341e761d6cfa>\u001b[0m in \u001b[0;36m<module>\u001b[1;34m\u001b[0m\n\u001b[0;32m      2\u001b[0m \u001b[1;33m\u001b[0m\u001b[0m\n\u001b[0;32m      3\u001b[0m \u001b[1;33m\u001b[0m\u001b[0m\n\u001b[1;32m----> 4\u001b[1;33m \u001b[0mprint\u001b[0m\u001b[1;33m(\u001b[0m\u001b[1;34m\"The original list : \"\u001b[0m \u001b[1;33m,\u001b[0m \u001b[0mstr\u001b[0m\u001b[1;33m(\u001b[0m\u001b[0mtrial_list\u001b[0m\u001b[1;33m)\u001b[0m\u001b[1;33m)\u001b[0m\u001b[1;33m\u001b[0m\u001b[1;33m\u001b[0m\u001b[0m\n\u001b[0m\u001b[0;32m      5\u001b[0m \u001b[1;33m\u001b[0m\u001b[0m\n\u001b[0;32m      6\u001b[0m \u001b[1;33m\u001b[0m\u001b[0m\n",
      "\u001b[1;31mNameError\u001b[0m: name 'trial_list' is not defined"
     ]
    }
   ],
   "source": [
    "trial_list = [[5, 0, 99], [2, 6, 9], [7, 4, 2], [0, 3, 9]]\n",
    "  \n",
    "\n",
    "print(\"The original list : \" , str(trial_list))\n",
    "  \n",
    "\n",
    "res = {trial_list[0][ele] :  trial_list[ele + 1] for ele in range(len(trial_list) - 1)}\n",
    "  \n",
    "\n",
    "print(\"The Assigned Matrix : \" , str(res))"
   ]
  },
  {
   "cell_type": "markdown",
   "metadata": {},
   "source": [
    "# Adding and Subtracting Matrices in Python"
   ]
  },
  {
   "cell_type": "code",
   "execution_count": null,
   "metadata": {},
   "outputs": [],
   "source": [
    "import numpy\n",
    "\n",
    "# Matrix 1\n",
    "A=[ [1, 8, 99], [3, 84, 5], [0, 7, 8] ]\n",
    "\n",
    "# Matrix 2\n",
    "B=[ [7, 6, 98], [1, 0, 3], [5, 3, 9] ]\n",
    "\n",
    "print(\"Result: \")\n",
    "print(numpy.add(A,B))"
   ]
  },
  {
   "cell_type": "markdown",
   "metadata": {},
   "source": [
    "# Functions Exercises"
   ]
  },
  {
   "cell_type": "markdown",
   "metadata": {},
   "source": [
    "# How to get list of parameters name from a function in Python?"
   ]
  },
  {
   "cell_type": "code",
   "execution_count": null,
   "metadata": {},
   "outputs": [],
   "source": [
    "def fun(arg1, arg2):\n",
    "    return arg1**arg2\n",
    "  \n",
    "\n",
    "import inspect \n",
    "  \n",
    " \n",
    "print(inspect.signature(fun)) "
   ]
  },
  {
   "cell_type": "markdown",
   "metadata": {},
   "source": [
    "# )How to Print Multiple Arguments in Python?"
   ]
  },
  {
   "cell_type": "code",
   "execution_count": null,
   "metadata": {},
   "outputs": [],
   "source": [
    "def sample(name, num=\"25\"):\n",
    "    print(\"Hello from\", name + ', ' + num)\n",
    "  \n",
    "  \n",
    "sample(\"python\")\n",
    "sample(\"python\", \"26\")"
   ]
  }
 ],
 "metadata": {
  "kernelspec": {
   "display_name": "Python 3",
   "language": "python",
   "name": "python3"
  },
  "language_info": {
   "codemirror_mode": {
    "name": "ipython",
    "version": 3
   },
   "file_extension": ".py",
   "mimetype": "text/x-python",
   "name": "python",
   "nbconvert_exporter": "python",
   "pygments_lexer": "ipython3",
   "version": "3.8.3"
  }
 },
 "nbformat": 4,
 "nbformat_minor": 4
}
