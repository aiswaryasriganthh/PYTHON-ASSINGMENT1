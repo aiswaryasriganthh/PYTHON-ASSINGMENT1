{
 "cells": [
  {
   "cell_type": "markdown",
   "id": "0b50ac80",
   "metadata": {},
   "source": [
    "                                           python assignment-2                                "
   ]
  },
  {
   "cell_type": "code",
   "execution_count": null,
   "id": "1c65baac",
   "metadata": {},
   "outputs": [],
   "source": [
    "A.ARAVINDHAN-B.TECH,AI&DS\n",
    "25-07-2022"
   ]
  },
  {
   "cell_type": "markdown",
   "id": "6bb29959",
   "metadata": {},
   "source": [
    "1.inheritance"
   ]
  },
  {
   "cell_type": "code",
   "execution_count": 113,
   "id": "3d37b566",
   "metadata": {},
   "outputs": [],
   "source": [
    "class Parent(object):\n",
    "    def _protected(self):\n",
    "        pass\n",
    "\n",
    "    def __private(self):\n",
    "        pass\n",
    "\n",
    "class Child(Parent):\n",
    "    def foo(self):\n",
    "        self._protected()   \n",
    "\n",
    "    def bar(self):\n",
    "        self.__private()"
   ]
  },
  {
   "cell_type": "code",
   "execution_count": 114,
   "id": "6c4aa541",
   "metadata": {},
   "outputs": [],
   "source": [
    "class Child(Parent):\n",
    "    def foo(self):\n",
    "        self._protected()\n",
    "\n",
    "    def bar(self):\n",
    "        self._Parent__private()\n"
   ]
  },
  {
   "cell_type": "code",
   "execution_count": 115,
   "id": "bfc06801",
   "metadata": {},
   "outputs": [
    {
     "name": "stdout",
     "output_type": "stream",
     "text": [
      "Is it really private?\n"
     ]
    }
   ],
   "source": [
    "class Parent(object):\n",
    "    def _protected(self):\n",
    "        pass\n",
    "\n",
    "    def __private(self):\n",
    "        print(\"Is it really private?\")\n",
    "\n",
    "class Child(Parent):\n",
    "    def foo(self):\n",
    "        self._protected()\n",
    "\n",
    "    def bar(self):\n",
    "        self.__private()\n",
    "\n",
    "c = Child()\n",
    "c._Parent__private()"
   ]
  },
  {
   "cell_type": "markdown",
   "id": "76ef20ae",
   "metadata": {},
   "source": [
    "exception handling"
   ]
  },
  {
   "cell_type": "code",
   "execution_count": 105,
   "id": "736138e1",
   "metadata": {},
   "outputs": [
    {
     "ename": "SyntaxError",
     "evalue": "Missing parentheses in call to 'print'. Did you mean print(\"hello\")? (2253489653.py, line 1)",
     "output_type": "error",
     "traceback": [
      "\u001b[1;36m  Input \u001b[1;32mIn [105]\u001b[1;36m\u001b[0m\n\u001b[1;33m    print \"hello\"\u001b[0m\n\u001b[1;37m          ^\u001b[0m\n\u001b[1;31mSyntaxError\u001b[0m\u001b[1;31m:\u001b[0m Missing parentheses in call to 'print'. Did you mean print(\"hello\")?\n"
     ]
    }
   ],
   "source": [
    "print \"hello\""
   ]
  },
  {
   "cell_type": "code",
   "execution_count": 106,
   "id": "0e7bf23d",
   "metadata": {},
   "outputs": [
    {
     "ename": "IndexError",
     "evalue": "list index out of range",
     "output_type": "error",
     "traceback": [
      "\u001b[1;31m---------------------------------------------------------------------------\u001b[0m",
      "\u001b[1;31mIndexError\u001b[0m                                Traceback (most recent call last)",
      "Input \u001b[1;32mIn [106]\u001b[0m, in \u001b[0;36m<cell line: 2>\u001b[1;34m()\u001b[0m\n\u001b[0;32m      1\u001b[0m a \u001b[38;5;241m=\u001b[39m [\u001b[38;5;241m1\u001b[39m,\u001b[38;5;241m2\u001b[39m,\u001b[38;5;241m3\u001b[39m]\n\u001b[1;32m----> 2\u001b[0m \u001b[43ma\u001b[49m\u001b[43m[\u001b[49m\u001b[38;5;241;43m4\u001b[39;49m\u001b[43m]\u001b[49m\n",
      "\u001b[1;31mIndexError\u001b[0m: list index out of range"
     ]
    }
   ],
   "source": [
    "a = [1,2,3]\n",
    "a[4]"
   ]
  },
  {
   "cell_type": "code",
   "execution_count": 107,
   "id": "e5f1206a",
   "metadata": {},
   "outputs": [
    {
     "ename": "ModuleNotFoundError",
     "evalue": "No module named 'notamodule'",
     "output_type": "error",
     "traceback": [
      "\u001b[1;31m---------------------------------------------------------------------------\u001b[0m",
      "\u001b[1;31mModuleNotFoundError\u001b[0m                       Traceback (most recent call last)",
      "Input \u001b[1;32mIn [107]\u001b[0m, in \u001b[0;36m<cell line: 1>\u001b[1;34m()\u001b[0m\n\u001b[1;32m----> 1\u001b[0m \u001b[38;5;28;01mimport\u001b[39;00m \u001b[38;5;21;01mnotamodule\u001b[39;00m\n",
      "\u001b[1;31mModuleNotFoundError\u001b[0m: No module named 'notamodule'"
     ]
    }
   ],
   "source": [
    "import notamodule"
   ]
  },
  {
   "cell_type": "code",
   "execution_count": 108,
   "id": "15192129",
   "metadata": {},
   "outputs": [
    {
     "ename": "KeyError",
     "evalue": "'4'",
     "output_type": "error",
     "traceback": [
      "\u001b[1;31m---------------------------------------------------------------------------\u001b[0m",
      "\u001b[1;31mKeyError\u001b[0m                                  Traceback (most recent call last)",
      "Input \u001b[1;32mIn [108]\u001b[0m, in \u001b[0;36m<cell line: 2>\u001b[1;34m()\u001b[0m\n\u001b[0;32m      1\u001b[0m D1\u001b[38;5;241m=\u001b[39m{\u001b[38;5;124m'\u001b[39m\u001b[38;5;124m1\u001b[39m\u001b[38;5;124m'\u001b[39m:\u001b[38;5;124m\"\u001b[39m\u001b[38;5;124maa\u001b[39m\u001b[38;5;124m\"\u001b[39m, \u001b[38;5;124m'\u001b[39m\u001b[38;5;124m2\u001b[39m\u001b[38;5;124m'\u001b[39m:\u001b[38;5;124m\"\u001b[39m\u001b[38;5;124mbb\u001b[39m\u001b[38;5;124m\"\u001b[39m, \u001b[38;5;124m'\u001b[39m\u001b[38;5;124m3\u001b[39m\u001b[38;5;124m'\u001b[39m:\u001b[38;5;124m\"\u001b[39m\u001b[38;5;124mcc\u001b[39m\u001b[38;5;124m\"\u001b[39m}\n\u001b[1;32m----> 2\u001b[0m \u001b[43mD1\u001b[49m\u001b[43m[\u001b[49m\u001b[38;5;124;43m'\u001b[39;49m\u001b[38;5;124;43m4\u001b[39;49m\u001b[38;5;124;43m'\u001b[39;49m\u001b[43m]\u001b[49m\n",
      "\u001b[1;31mKeyError\u001b[0m: '4'"
     ]
    }
   ],
   "source": [
    "D1={'1':\"aa\", '2':\"bb\", '3':\"cc\"}\n",
    "D1['4']"
   ]
  },
  {
   "cell_type": "code",
   "execution_count": 109,
   "id": "bbe25564",
   "metadata": {},
   "outputs": [
    {
     "ename": "ZeroDivisionError",
     "evalue": "division by zero",
     "output_type": "error",
     "traceback": [
      "\u001b[1;31m---------------------------------------------------------------------------\u001b[0m",
      "\u001b[1;31mZeroDivisionError\u001b[0m                         Traceback (most recent call last)",
      "Input \u001b[1;32mIn [109]\u001b[0m, in \u001b[0;36m<cell line: 1>\u001b[1;34m()\u001b[0m\n\u001b[1;32m----> 1\u001b[0m x\u001b[38;5;241m=\u001b[39m\u001b[38;5;241;43m100\u001b[39;49m\u001b[38;5;241;43m/\u001b[39;49m\u001b[38;5;241;43m0\u001b[39;49m\n\u001b[0;32m      2\u001b[0m x\n",
      "\u001b[1;31mZeroDivisionError\u001b[0m: division by zero"
     ]
    }
   ],
   "source": [
    "x=100/0\n",
    "x"
   ]
  },
  {
   "cell_type": "code",
   "execution_count": 110,
   "id": "22396cf5",
   "metadata": {},
   "outputs": [
    {
     "ename": "SyntaxError",
     "evalue": "invalid syntax (447927798.py, line 2)",
     "output_type": "error",
     "traceback": [
      "\u001b[1;36m  Input \u001b[1;32mIn [110]\u001b[1;36m\u001b[0m\n\u001b[1;33m    enter your name^c\u001b[0m\n\u001b[1;37m          ^\u001b[0m\n\u001b[1;31mSyntaxError\u001b[0m\u001b[1;31m:\u001b[0m invalid syntax\n"
     ]
    }
   ],
   "source": [
    "name=input('enter your name')\n",
    "enter your name^c"
   ]
  },
  {
   "cell_type": "code",
   "execution_count": 111,
   "id": "daf5c7bb",
   "metadata": {},
   "outputs": [
    {
     "name": "stdout",
     "output_type": "stream",
     "text": [
      "divison\n",
      "an error occurs\n",
      "division done\n"
     ]
    }
   ],
   "source": [
    "try:\n",
    "     print(\"divison\")\n",
    "     print(1 / 0)\n",
    "except:\n",
    "     print(\"an error occurs\")\n",
    "finally:\n",
    "     print(\"division done\")"
   ]
  },
  {
   "cell_type": "code",
   "execution_count": 112,
   "id": "6924df75",
   "metadata": {},
   "outputs": [
    {
     "name": "stdout",
     "output_type": "stream",
     "text": [
      "please add money in your account\n"
     ]
    }
   ],
   "source": [
    "try:\n",
    "    amount = 1999\n",
    "    if amount < 2999:\n",
    "          \n",
    "        raise ValueError(\"please add money in your account\")\n",
    "    else:\n",
    "        print(\"You are eligible\")\n",
    "except ValueError as e:\n",
    "        print(e)"
   ]
  },
  {
   "cell_type": "markdown",
   "id": "13881d07",
   "metadata": {},
   "source": [
    "3.Regular expression"
   ]
  },
  {
   "cell_type": "code",
   "execution_count": 102,
   "id": "79388411",
   "metadata": {},
   "outputs": [],
   "source": [
    "import re"
   ]
  },
  {
   "cell_type": "markdown",
   "id": "7cd9df16",
   "metadata": {},
   "source": [
    "findall()"
   ]
  },
  {
   "cell_type": "code",
   "execution_count": 5,
   "id": "c77a72aa",
   "metadata": {},
   "outputs": [
    {
     "data": {
      "text/plain": [
       "['a', 'a', 'a']"
      ]
     },
     "execution_count": 5,
     "metadata": {},
     "output_type": "execute_result"
    }
   ],
   "source": [
    "txt = \"a watermelon as melon\"\n",
    "x = re.findall(\"a\",txt)\n",
    "x"
   ]
  },
  {
   "cell_type": "code",
   "execution_count": 8,
   "id": "95ba8f18",
   "metadata": {},
   "outputs": [
    {
     "name": "stdout",
     "output_type": "stream",
     "text": [
      "['melon', 'melon']\n",
      "the matching is available\n"
     ]
    }
   ],
   "source": [
    "txt = \"a watermelon in melon\"\n",
    "x = re.findall(\"melon\",txt)\n",
    "print(x)\n",
    "if(x):\n",
    "    print(\"the matching is available\")\n",
    "else:\n",
    "    print(\"no match\")"
   ]
  },
  {
   "cell_type": "markdown",
   "id": "61c05e8a",
   "metadata": {},
   "source": [
    "search()"
   ]
  },
  {
   "cell_type": "code",
   "execution_count": 15,
   "id": "83fed95c",
   "metadata": {},
   "outputs": [
    {
     "name": "stdout",
     "output_type": "stream",
     "text": [
      "the first white-space character is located in position:  1\n"
     ]
    }
   ],
   "source": [
    "txt = \"a watermelon as melon\"\n",
    "x = re.search(\"\\s\",txt)\n",
    "print(\"the first white-space character is located in position: \",x.start())"
   ]
  },
  {
   "cell_type": "code",
   "execution_count": 18,
   "id": "206b545d",
   "metadata": {},
   "outputs": [
    {
     "name": "stdout",
     "output_type": "stream",
     "text": [
      "None\n"
     ]
    }
   ],
   "source": [
    "txt = \"a watermelon as melon\"\n",
    "x = re.search(\"apple\",txt)\n",
    "print(x)"
   ]
  },
  {
   "cell_type": "markdown",
   "id": "78e10113",
   "metadata": {},
   "source": [
    "split"
   ]
  },
  {
   "cell_type": "code",
   "execution_count": 20,
   "id": "76bdcd14",
   "metadata": {},
   "outputs": [
    {
     "name": "stdout",
     "output_type": "stream",
     "text": [
      "['a', 'watermelon', 'as', 'melon']\n"
     ]
    }
   ],
   "source": [
    "txt = \"a watermelon as melon\"\n",
    "x = re.split(\"\\s\",txt)\n",
    "print(x)"
   ]
  },
  {
   "cell_type": "markdown",
   "id": "ab0095d9",
   "metadata": {},
   "source": [
    "maxsplit()"
   ]
  },
  {
   "cell_type": "code",
   "execution_count": 24,
   "id": "85dcc24d",
   "metadata": {},
   "outputs": [
    {
     "name": "stdout",
     "output_type": "stream",
     "text": [
      "['a', 'watermelon', 'as melon']\n"
     ]
    }
   ],
   "source": [
    "txt = \"a watermelon as melon\"\n",
    "x = re.split(\"\\s\",txt,2)\n",
    "print(x)"
   ]
  },
  {
   "cell_type": "markdown",
   "id": "16e1cb76",
   "metadata": {},
   "source": [
    "sub()"
   ]
  },
  {
   "cell_type": "code",
   "execution_count": 25,
   "id": "c6bf5ccc",
   "metadata": {},
   "outputs": [
    {
     "name": "stdout",
     "output_type": "stream",
     "text": [
      "a-watermelon-as-melon\n"
     ]
    }
   ],
   "source": [
    "txt = \"a watermelon as melon\"\n",
    "x = re.sub(\"\\s\",\"-\",txt)\n",
    "print(x)"
   ]
  },
  {
   "cell_type": "code",
   "execution_count": 27,
   "id": "e016baef",
   "metadata": {},
   "outputs": [
    {
     "name": "stdout",
     "output_type": "stream",
     "text": [
      "a-watermelon-as melon\n"
     ]
    }
   ],
   "source": [
    "txt = \"a watermelon as melon\"\n",
    "x = re.sub(\"\\s\",\"-\",txt,2)\n",
    "print(x)"
   ]
  },
  {
   "cell_type": "markdown",
   "id": "3ebc50c7",
   "metadata": {},
   "source": [
    "4.aggregate functions (numpy)"
   ]
  },
  {
   "cell_type": "code",
   "execution_count": 28,
   "id": "784b99ac",
   "metadata": {},
   "outputs": [],
   "source": [
    "import numpy as np"
   ]
  },
  {
   "cell_type": "code",
   "execution_count": 33,
   "id": "5439258f",
   "metadata": {},
   "outputs": [
    {
     "name": "stdout",
     "output_type": "stream",
     "text": [
      "[19  8 19 16 11]\n"
     ]
    }
   ],
   "source": [
    "l = np.random.randint(2,20,5)\n",
    "print(l)"
   ]
  },
  {
   "cell_type": "markdown",
   "id": "925be637",
   "metadata": {},
   "source": [
    "one-dimensional array"
   ]
  },
  {
   "cell_type": "code",
   "execution_count": 36,
   "id": "74fb96e3",
   "metadata": {},
   "outputs": [
    {
     "name": "stdout",
     "output_type": "stream",
     "text": [
      "0\n",
      "3000\n"
     ]
    }
   ],
   "source": [
    "l = np.array([50,100,3000,25,0])\n",
    "e=np.min(l)\n",
    "f=np.max(l)\n",
    "print(e)\n",
    "print(f)"
   ]
  },
  {
   "cell_type": "markdown",
   "id": "c90f56cf",
   "metadata": {},
   "source": [
    "multi-dimensional array"
   ]
  },
  {
   "cell_type": "code",
   "execution_count": 37,
   "id": "ce071eb6",
   "metadata": {},
   "outputs": [
    {
     "name": "stdout",
     "output_type": "stream",
     "text": [
      "[[ 2  5 16]\n",
      " [ 1  8 12]\n",
      " [17 11  9]]\n"
     ]
    }
   ],
   "source": [
    "l = np.random.randint(0,20,(3,3))\n",
    "print(l)"
   ]
  },
  {
   "cell_type": "code",
   "execution_count": 38,
   "id": "76e8d943",
   "metadata": {},
   "outputs": [
    {
     "name": "stdout",
     "output_type": "stream",
     "text": [
      "81\n",
      "17\n",
      "1\n"
     ]
    }
   ],
   "source": [
    "e = l.sum()\n",
    "f = l.max()\n",
    "g = l.min()\n",
    "print(e)\n",
    "print(f)\n",
    "print(g)"
   ]
  },
  {
   "cell_type": "markdown",
   "id": "7d2810de",
   "metadata": {},
   "source": [
    "product()"
   ]
  },
  {
   "cell_type": "code",
   "execution_count": 41,
   "id": "86f8f0b8",
   "metadata": {},
   "outputs": [
    {
     "name": "stdout",
     "output_type": "stream",
     "text": [
      "280\n"
     ]
    }
   ],
   "source": [
    "l = np.prod([[1,4],\n",
    "             [7,10]])\n",
    "print(l)"
   ]
  },
  {
   "cell_type": "markdown",
   "id": "a07586c9",
   "metadata": {},
   "source": [
    "mean()"
   ]
  },
  {
   "cell_type": "code",
   "execution_count": 42,
   "id": "11aee7d9",
   "metadata": {},
   "outputs": [
    {
     "data": {
      "text/plain": [
       "3.0"
      ]
     },
     "execution_count": 42,
     "metadata": {},
     "output_type": "execute_result"
    }
   ],
   "source": [
    "a = np.array([[1,4],[3,4]])\n",
    "np.mean(a)"
   ]
  },
  {
   "cell_type": "markdown",
   "id": "5fd505c4",
   "metadata": {},
   "source": [
    "var()"
   ]
  },
  {
   "cell_type": "code",
   "execution_count": 43,
   "id": "c8ca0225",
   "metadata": {},
   "outputs": [
    {
     "data": {
      "text/plain": [
       "1.25"
      ]
     },
     "execution_count": 43,
     "metadata": {},
     "output_type": "execute_result"
    }
   ],
   "source": [
    "a = np.array([[1,2],[3,4]])\n",
    "np.var(a)"
   ]
  },
  {
   "cell_type": "markdown",
   "id": "931b00fc",
   "metadata": {},
   "source": [
    "median()"
   ]
  },
  {
   "cell_type": "code",
   "execution_count": 44,
   "id": "c627f2bf",
   "metadata": {},
   "outputs": [
    {
     "data": {
      "text/plain": [
       "2.5"
      ]
     },
     "execution_count": 44,
     "metadata": {},
     "output_type": "execute_result"
    }
   ],
   "source": [
    "a = np.array([[1,2],[3,4]])\n",
    "np.median(a)"
   ]
  },
  {
   "cell_type": "code",
   "execution_count": 47,
   "id": "abcb93cc",
   "metadata": {},
   "outputs": [
    {
     "name": "stdout",
     "output_type": "stream",
     "text": [
      "[1.15 1.18 1.21 1.24 1.27]\n"
     ]
    }
   ],
   "source": [
    "a = np.array([1,2,3,4])\n",
    "b = np.array([5,6,7,8,9])\n",
    "print(np.percentile(a,b))"
   ]
  },
  {
   "cell_type": "markdown",
   "id": "b556eec5",
   "metadata": {},
   "source": [
    "comparisons,masks and boolean array"
   ]
  },
  {
   "cell_type": "code",
   "execution_count": 48,
   "id": "8c3a488b",
   "metadata": {},
   "outputs": [],
   "source": [
    "import numpy as np\n",
    "import pandas as pd"
   ]
  },
  {
   "cell_type": "code",
   "execution_count": 50,
   "id": "118b5b08",
   "metadata": {},
   "outputs": [],
   "source": [
    "x = np.array([1, 2, 3, 4, 5])"
   ]
  },
  {
   "cell_type": "code",
   "execution_count": 55,
   "id": "ffbc72c2",
   "metadata": {},
   "outputs": [
    {
     "data": {
      "text/plain": [
       "array([ True, False, False, False, False])"
      ]
     },
     "execution_count": 55,
     "metadata": {},
     "output_type": "execute_result"
    }
   ],
   "source": [
    "x < 2"
   ]
  },
  {
   "cell_type": "code",
   "execution_count": 53,
   "id": "6ccbebb8",
   "metadata": {},
   "outputs": [
    {
     "data": {
      "text/plain": [
       "array([False, False, False, False,  True])"
      ]
     },
     "execution_count": 53,
     "metadata": {},
     "output_type": "execute_result"
    }
   ],
   "source": [
    "x > 4"
   ]
  },
  {
   "cell_type": "code",
   "execution_count": 56,
   "id": "94cf732c",
   "metadata": {},
   "outputs": [
    {
     "data": {
      "text/plain": [
       "array([False, False, False,  True,  True])"
      ]
     },
     "execution_count": 56,
     "metadata": {},
     "output_type": "execute_result"
    }
   ],
   "source": [
    "x >= 4"
   ]
  },
  {
   "cell_type": "code",
   "execution_count": 57,
   "id": "6ed60476",
   "metadata": {},
   "outputs": [
    {
     "data": {
      "text/plain": [
       "array([ True,  True,  True, False, False])"
      ]
     },
     "execution_count": 57,
     "metadata": {},
     "output_type": "execute_result"
    }
   ],
   "source": [
    "x <= 3"
   ]
  },
  {
   "cell_type": "code",
   "execution_count": 58,
   "id": "8fbfa88e",
   "metadata": {},
   "outputs": [
    {
     "data": {
      "text/plain": [
       "array([ True, False,  True,  True,  True])"
      ]
     },
     "execution_count": 58,
     "metadata": {},
     "output_type": "execute_result"
    }
   ],
   "source": [
    "x!= 2"
   ]
  },
  {
   "cell_type": "code",
   "execution_count": 59,
   "id": "2108acfb",
   "metadata": {},
   "outputs": [
    {
     "data": {
      "text/plain": [
       "array([False,  True, False, False, False])"
      ]
     },
     "execution_count": 59,
     "metadata": {},
     "output_type": "execute_result"
    }
   ],
   "source": [
    "x==2"
   ]
  },
  {
   "cell_type": "code",
   "execution_count": 61,
   "id": "65d94639",
   "metadata": {},
   "outputs": [
    {
     "data": {
      "text/plain": [
       "array([False,  True, False, False, False])"
      ]
     },
     "execution_count": 61,
     "metadata": {},
     "output_type": "execute_result"
    }
   ],
   "source": [
    "(2 * x) == (x ** 2)"
   ]
  },
  {
   "cell_type": "code",
   "execution_count": 63,
   "id": "36452231",
   "metadata": {},
   "outputs": [
    {
     "data": {
      "text/plain": [
       "array([[5, 0, 3, 3],\n",
       "       [7, 9, 3, 5],\n",
       "       [2, 4, 7, 6]])"
      ]
     },
     "execution_count": 63,
     "metadata": {},
     "output_type": "execute_result"
    }
   ],
   "source": [
    "y=np.random.RandomState(0)\n",
    "x = y.randint(10, size=(3, 4))\n",
    "x"
   ]
  },
  {
   "cell_type": "code",
   "execution_count": 64,
   "id": "43f7201f",
   "metadata": {},
   "outputs": [
    {
     "data": {
      "text/plain": [
       "array([[ True,  True,  True,  True],\n",
       "       [False, False,  True,  True],\n",
       "       [ True,  True, False, False]])"
      ]
     },
     "execution_count": 64,
     "metadata": {},
     "output_type": "execute_result"
    }
   ],
   "source": [
    "x < 6"
   ]
  },
  {
   "cell_type": "code",
   "execution_count": 65,
   "id": "4a54b0a6",
   "metadata": {},
   "outputs": [
    {
     "name": "stdout",
     "output_type": "stream",
     "text": [
      "[[5 0 3 3]\n",
      " [7 9 3 5]\n",
      " [2 4 7 6]]\n"
     ]
    }
   ],
   "source": [
    "print(x)"
   ]
  },
  {
   "cell_type": "code",
   "execution_count": 67,
   "id": "797fe3b4",
   "metadata": {},
   "outputs": [
    {
     "data": {
      "text/plain": [
       "2"
      ]
     },
     "execution_count": 67,
     "metadata": {},
     "output_type": "execute_result"
    }
   ],
   "source": [
    "np.count_nonzero(x < 3)"
   ]
  },
  {
   "cell_type": "code",
   "execution_count": 69,
   "id": "0241c197",
   "metadata": {},
   "outputs": [
    {
     "data": {
      "text/plain": [
       "2"
      ]
     },
     "execution_count": 69,
     "metadata": {},
     "output_type": "execute_result"
    }
   ],
   "source": [
    "np.sum(x<3)"
   ]
  },
  {
   "cell_type": "code",
   "execution_count": 71,
   "id": "5abdc46d",
   "metadata": {},
   "outputs": [
    {
     "data": {
      "text/plain": [
       "array([1, 0, 1])"
      ]
     },
     "execution_count": 71,
     "metadata": {},
     "output_type": "execute_result"
    }
   ],
   "source": [
    "np.sum(x < 3, axis=1)"
   ]
  },
  {
   "cell_type": "code",
   "execution_count": 73,
   "id": "de947c9a",
   "metadata": {},
   "outputs": [
    {
     "data": {
      "text/plain": [
       "True"
      ]
     },
     "execution_count": 73,
     "metadata": {},
     "output_type": "execute_result"
    }
   ],
   "source": [
    "np.any(x>2)"
   ]
  },
  {
   "cell_type": "code",
   "execution_count": 74,
   "id": "7e73b4e4",
   "metadata": {},
   "outputs": [
    {
     "data": {
      "text/plain": [
       "True"
      ]
     },
     "execution_count": 74,
     "metadata": {},
     "output_type": "execute_result"
    }
   ],
   "source": [
    "np.all(x < 10)"
   ]
  },
  {
   "cell_type": "code",
   "execution_count": 75,
   "id": "471d042b",
   "metadata": {},
   "outputs": [
    {
     "data": {
      "text/plain": [
       "False"
      ]
     },
     "execution_count": 75,
     "metadata": {},
     "output_type": "execute_result"
    }
   ],
   "source": [
    "np.all(x == 6)"
   ]
  },
  {
   "cell_type": "code",
   "execution_count": 76,
   "id": "7a802769",
   "metadata": {},
   "outputs": [
    {
     "data": {
      "text/plain": [
       "array([ True, False,  True])"
      ]
     },
     "execution_count": 76,
     "metadata": {},
     "output_type": "execute_result"
    }
   ],
   "source": [
    "np.all(x < 8, axis=1)"
   ]
  },
  {
   "cell_type": "markdown",
   "id": "8b3cd251",
   "metadata": {},
   "source": [
    "boolean operators"
   ]
  },
  {
   "cell_type": "code",
   "execution_count": 86,
   "id": "2df9ed0f",
   "metadata": {},
   "outputs": [
    {
     "ename": "SyntaxError",
     "evalue": "(unicode error) 'unicodeescape' codec can't decode bytes in position 2-3: truncated \\UXXXXXXXX escape (873305947.py, line 1)",
     "output_type": "error",
     "traceback": [
      "\u001b[1;36m  Input \u001b[1;32mIn [86]\u001b[1;36m\u001b[0m\n\u001b[1;33m    rainfall = pd.read_csv('C:\\Users\\Srimathi\\OneDrive\\Desktop\\New folder(2)\\archive\\weatherAUS.csv')['Rainfall'].values\u001b[0m\n\u001b[1;37m                                                                                                    ^\u001b[0m\n\u001b[1;31mSyntaxError\u001b[0m\u001b[1;31m:\u001b[0m (unicode error) 'unicodeescape' codec can't decode bytes in position 2-3: truncated \\UXXXXXXXX escape\n"
     ]
    }
   ],
   "source": [
    "rainfall = pd.read_csv('C:\\Users\\Srimathi\\OneDrive\\Desktop\\New folder(2)\\archive\\weatherAUS.csv')['Rainfall'].values\n",
    "print(rainfall)"
   ]
  },
  {
   "cell_type": "code",
   "execution_count": 88,
   "id": "4f3544c1",
   "metadata": {},
   "outputs": [
    {
     "data": {
      "text/plain": [
       "(True, False)"
      ]
     },
     "execution_count": 88,
     "metadata": {},
     "output_type": "execute_result"
    }
   ],
   "source": [
    "bool(20), bool(0)"
   ]
  },
  {
   "cell_type": "code",
   "execution_count": 90,
   "id": "60e3ad1e",
   "metadata": {},
   "outputs": [
    {
     "data": {
      "text/plain": [
       "False"
      ]
     },
     "execution_count": 90,
     "metadata": {},
     "output_type": "execute_result"
    }
   ],
   "source": [
    "bool(20 and 0)"
   ]
  },
  {
   "cell_type": "code",
   "execution_count": 91,
   "id": "67824a22",
   "metadata": {},
   "outputs": [
    {
     "data": {
      "text/plain": [
       "True"
      ]
     },
     "execution_count": 91,
     "metadata": {},
     "output_type": "execute_result"
    }
   ],
   "source": [
    "bool(20 or 0)"
   ]
  },
  {
   "cell_type": "code",
   "execution_count": 93,
   "id": "c39bdd8e",
   "metadata": {},
   "outputs": [
    {
     "data": {
      "text/plain": [
       "'0b10100'"
      ]
     },
     "execution_count": 93,
     "metadata": {},
     "output_type": "execute_result"
    }
   ],
   "source": [
    "bin(20)"
   ]
  },
  {
   "cell_type": "code",
   "execution_count": 94,
   "id": "6cb358ab",
   "metadata": {},
   "outputs": [
    {
     "data": {
      "text/plain": [
       "'0b11110'"
      ]
     },
     "execution_count": 94,
     "metadata": {},
     "output_type": "execute_result"
    }
   ],
   "source": [
    "bin(42 and 30)"
   ]
  },
  {
   "cell_type": "code",
   "execution_count": 96,
   "id": "975c0761",
   "metadata": {},
   "outputs": [
    {
     "data": {
      "text/plain": [
       "'0b11'"
      ]
     },
     "execution_count": 96,
     "metadata": {},
     "output_type": "execute_result"
    }
   ],
   "source": [
    "bin(4 and 3)"
   ]
  },
  {
   "cell_type": "markdown",
   "id": "479e9139",
   "metadata": {},
   "source": [
    "datatype should be mentioned to get similar output"
   ]
  },
  {
   "cell_type": "code",
   "execution_count": 98,
   "id": "e5cb14e8",
   "metadata": {},
   "outputs": [
    {
     "data": {
      "text/plain": [
       "array([1, 1, 1, 0, 1, 1], dtype=int32)"
      ]
     },
     "execution_count": 98,
     "metadata": {},
     "output_type": "execute_result"
    }
   ],
   "source": [
    "A = np.array([1, 0, 1, 0, 1, 0])\n",
    "B = np.array([1, 1, 1, 0, 1, 1])\n",
    "A | B"
   ]
  },
  {
   "cell_type": "code",
   "execution_count": 99,
   "id": "7966fbda",
   "metadata": {},
   "outputs": [
    {
     "data": {
      "text/plain": [
       "array([ True,  True,  True, False,  True,  True])"
      ]
     },
     "execution_count": 99,
     "metadata": {},
     "output_type": "execute_result"
    }
   ],
   "source": [
    "A = np.array([1, 0, 1, 0, 1, 0], dtype=bool)\n",
    "B = np.array([1, 1, 1, 0, 1, 1], dtype=bool)\n",
    "A | B"
   ]
  },
  {
   "cell_type": "code",
   "execution_count": 101,
   "id": "3d4c438b",
   "metadata": {},
   "outputs": [
    {
     "data": {
      "text/plain": [
       "array([False, False, False, False, False,  True,  True,  True, False,\n",
       "       False])"
      ]
     },
     "execution_count": 101,
     "metadata": {},
     "output_type": "execute_result"
    }
   ],
   "source": [
    "x = np.arange(10)\n",
    "(x > 4) & (x < 8)"
   ]
  }
 ],
 "metadata": {
  "kernelspec": {
   "display_name": "Python 3 (ipykernel)",
   "language": "python",
   "name": "python3"
  },
  "language_info": {
   "codemirror_mode": {
    "name": "ipython",
    "version": 3
   },
   "file_extension": ".py",
   "mimetype": "text/x-python",
   "name": "python",
   "nbconvert_exporter": "python",
   "pygments_lexer": "ipython3",
   "version": "3.9.12"
  }
 },
 "nbformat": 4,
 "nbformat_minor": 5
}
